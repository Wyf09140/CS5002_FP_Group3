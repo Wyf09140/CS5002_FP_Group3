{
 "cells": [
  {
   "cell_type": "code",
   "execution_count": 1,
   "id": "312aeac8-3c6c-4a24-a6a4-d829f4367e07",
   "metadata": {},
   "outputs": [],
   "source": [
    "# Libraries\n",
    "import numpy as np\n",
    "import matplotlib.pyplot as plt\n",
    "import seaborn as sns\n",
    "import pandas\n",
    "import pickle\n",
    "\n",
    "# Modelling Libraries\n",
    "from sklearn.model_selection import train_test_split\n",
    "from sklearn.preprocessing import OneHotEncoder, MinMaxScaler, LabelEncoder, KBinsDiscretizer\n",
    "from sklearn.naive_bayes import CategoricalNB, GaussianNB, BernoulliNB\n",
    "from sklearn.metrics import f1_score, confusion_matrix"
   ]
  },
  {
   "cell_type": "code",
   "execution_count": 2,
   "id": "5832b510-16f2-42c4-8988-252ffa907c6f",
   "metadata": {},
   "outputs": [
    {
     "name": "stdout",
     "output_type": "stream",
     "text": [
      "Index(['location', 'month', 'age_group', 'sex', 'race', 'ethnicity',\n",
      "       'current_status', 'symptom_status', 'average_value', 'hosp_yn'],\n",
      "      dtype='object')\n",
      "294108\n",
      "(array(['Missing', 'No', 'Yes'], dtype=object), array([166272, 115813,  12023]))\n"
     ]
    }
   ],
   "source": [
    "# Import csv and convert to pandas\n",
    "filename = 'Everything_12_1/12_1_Ordered_Merged_Data.csv'\n",
    "df = pandas.read_csv(filename)\n",
    "\n",
    "print(df.columns)\n",
    "print(len(df))\n",
    "print(np.unique(df['hosp_yn'], return_counts = True))"
   ]
  },
  {
   "cell_type": "code",
   "execution_count": 3,
   "id": "e7a5d670-6992-4795-ae1d-42b39730c2d2",
   "metadata": {},
   "outputs": [],
   "source": [
    "# # Remove all Missing values from this \n",
    "# df = df.replace('Missing', np.nan)\n",
    "# df = df.dropna(axis=0)"
   ]
  },
  {
   "cell_type": "code",
   "execution_count": 4,
   "id": "27b12271-0e6b-4169-95b8-1bdd721376a4",
   "metadata": {},
   "outputs": [],
   "source": [
    "# Assign Labels + SPlit INputs into continuous and categorical\n",
    "Y = df['hosp_yn']\n",
    "X_cont = pandas.DataFrame(df['average_value'])\n",
    "X = df.drop(['hosp_yn', 'average_value'], axis = 1)"
   ]
  },
  {
   "cell_type": "code",
   "execution_count": 5,
   "id": "c020d5d0-3608-4ba3-8ffb-c57d16111fe0",
   "metadata": {},
   "outputs": [],
   "source": [
    "# Data pre-processing - One-Hot Encoding - Categorical input params\n",
    "ohe = OneHotEncoder()\n",
    "ohe.fit(X)\n",
    "\n",
    "# Returns CSR Matrix\n",
    "X_enc = ohe.transform(X)\n",
    "\n",
    "# print(X_enc.shape)\n",
    "# print(ohe.get_feature_names_out())\n",
    "\n",
    "# # Save encode to Pickle\n",
    "# with open('catX_Enc.pkl', 'wb') as f:\n",
    "#     pickle.dump(ohe, f)"
   ]
  },
  {
   "cell_type": "code",
   "execution_count": 6,
   "id": "c530418f-743d-499d-b436-be8488382f3a",
   "metadata": {},
   "outputs": [
    {
     "name": "stdout",
     "output_type": "stream",
     "text": [
      "(294108, 10)\n",
      "['average_value_0.0' 'average_value_1.0' 'average_value_2.0'\n",
      " 'average_value_3.0' 'average_value_4.0' 'average_value_5.0'\n",
      " 'average_value_6.0' 'average_value_7.0' 'average_value_8.0'\n",
      " 'average_value_9.0']\n"
     ]
    },
    {
     "name": "stderr",
     "output_type": "stream",
     "text": [
      "/opt/anaconda3/lib/python3.12/site-packages/sklearn/preprocessing/_discretization.py:248: FutureWarning: In version 1.5 onwards, subsample=200_000 will be used by default. Set subsample explicitly to silence this warning in the mean time. Set subsample=None to disable subsampling explicitly.\n",
      "  warnings.warn(\n"
     ]
    }
   ],
   "source": [
    "# Pre-Process the Continuous Vars - MinMaxScaler and Bucketize\n",
    "# scaler = MinMaxScaler()\n",
    "# scaler.fit(X_cont)\n",
    "# X_cont['Val_Norm'] = scaler.transform(X_cont)\n",
    "\n",
    "# Save the MinMaxScaler\n",
    "# with open('minmaxscaler.pkl' 'wb') as f:\n",
    "#     pickle.dump(scaler, f)\n",
    "\n",
    "\n",
    "# Add Bucketization\n",
    "# Bin effective R data into 50 bins - perhaps run sensitivity study\n",
    "est = KBinsDiscretizer(n_bins = 10, encode = 'onehot', strategy = 'uniform')\n",
    "est.fit(pandas.DataFrame(X_cont))\n",
    "\n",
    "# transform value\n",
    "tDF = est.transform(pandas.DataFrame(X_cont))\n",
    "print(tDF.shape)\n",
    "print(est.get_feature_names_out())\n",
    "bin_edges = est.bin_edges_\n",
    "\n",
    "\n",
    "# Save Discretization\n",
    "# with open('binDiscrete10.pkl', 'wb') as f:\n",
    "#     pickle.dump(est, f)\n",
    "\n",
    "# # Extract start and end values for bins\n",
    "# for i, edges in enumerate(bin_edges):\n",
    "#     print(f\"Feature {i+1}:\")\n",
    "#     for j in range(len(edges) - 1):\n",
    "#         print(f\"  Bin {j+1}: Start = {edges[j]}, End = {edges[j+1]}\")"
   ]
  },
  {
   "cell_type": "code",
   "execution_count": 7,
   "id": "4ae0da88-4795-4aaa-82aa-e626db547897",
   "metadata": {},
   "outputs": [
    {
     "name": "stdout",
     "output_type": "stream",
     "text": [
      "[0 0 1 ... 0 0 0]\n",
      "['No' 'No' 'Yes' ... 'No' 'No' 'No']\n"
     ]
    }
   ],
   "source": [
    "# Replace the missing label with No\n",
    "Y = Y.replace('Missing', 'No')\n",
    "\n",
    "# encode the Y label\n",
    "le = LabelEncoder()\n",
    "le.fit(Y)\n",
    "Y_enc = le.transform(Y)\n",
    "print(Y_enc)\n",
    "print(le.inverse_transform(Y_enc))\n",
    "\n",
    "# Save Label Encoder\n",
    "# with open('labelEncN_Y.pkl', 'wb') as f:\n",
    "#     pickle.dump(le, f)"
   ]
  },
  {
   "cell_type": "code",
   "execution_count": 8,
   "id": "58f34939-2ff9-405a-85f3-41e8f097a49b",
   "metadata": {},
   "outputs": [],
   "source": [
    "# Compile all the elements into a single dataframe for train-test split\n",
    "X_processed = pandas.DataFrame(X_enc.toarray(), columns = ohe.get_feature_names_out())\n",
    "# Add the continuous Bins - \n",
    "df_cont = pandas.DataFrame(tDF.toarray(), columns = est.get_feature_names_out())\n",
    "\n",
    "# combine the two dataframes together in the column axis\n",
    "X_processed = pandas.concat([X_processed, df_cont], axis = 1)\n",
    "                           \n",
    "# Split Data into train test\n",
    "x_train, x_test, y_train, y_test = train_test_split(X_processed, Y_enc, stratify = Y_enc, random_state = 42)"
   ]
  },
  {
   "cell_type": "code",
   "execution_count": 9,
   "id": "c2f88bb9-a214-45b1-9ee5-4ddede0fe54d",
   "metadata": {},
   "outputs": [
    {
     "name": "stdout",
     "output_type": "stream",
     "text": [
      "0.941891855895716\n"
     ]
    }
   ],
   "source": [
    "# SkLearn Naive Bayes Classifier Library\n",
    "clf = BernoulliNB()\n",
    "model = clf.fit(x_train, y_train)\n",
    "pred_y = model.predict(x_test)\n",
    "\n",
    "# Compute F1 Score\n",
    "print(f1_score(y_test, pred_y, average = 'weighted'))\n",
    "\n",
    "# Save Model\n",
    "# with open('bNB.pkl', 'wb') as f:\n",
    "#     pickle.dump(model, f)"
   ]
  },
  {
   "cell_type": "code",
   "execution_count": 10,
   "id": "8d5dbace-1b05-4a6c-8bd4-1408041b8d60",
   "metadata": {},
   "outputs": [
    {
     "data": {
      "text/plain": [
       "<sklearn.metrics._plot.confusion_matrix.ConfusionMatrixDisplay at 0x158e1ec30>"
      ]
     },
     "execution_count": 10,
     "metadata": {},
     "output_type": "execute_result"
    },
    {
     "data": {
      "image/png": "[encoded data removed]",
      "text/plain": [
       "<Figure size 640x480 with 2 Axes>"
      ]
     },
     "metadata": {},
     "output_type": "display_data"
    }
   ],
   "source": [
    "# Visualize the results = via confusion matrix\n",
    "from sklearn.metrics import ConfusionMatrixDisplay\n",
    "ConfusionMatrixDisplay.from_estimator(model, x_test, y_test)"
   ]
  },
  {
   "cell_type": "code",
   "execution_count": 11,
   "id": "0e9c461e-9d32-4b5c-af8a-5fecb789f470",
   "metadata": {},
   "outputs": [
    {
     "name": "stdout",
     "output_type": "stream",
     "text": [
      "Class: location_alameda, Log Probability: -0.991731418317574\n",
      "Class: race_Asian, Log Probability: -0.9575109280803034\n",
      "Class: location_santa clara, Log Probability: -0.8421950828674465\n",
      "Class: race_White, Log Probability: -0.8141933831737873\n",
      "Class: sex_Male, Log Probability: -0.7676937372491377\n",
      "Class: sex_Female, Log Probability: -0.6237743580083865\n",
      "Class: age_group_18 to 49 years, Log Probability: -0.4652184844026106\n",
      "Class: ethnicity_Non-Hispanic/Latino, Log Probability: -0.13755985573615526\n",
      "Class: symptom_status_Symptomatic, Log Probability: -0.10122746623279788\n",
      "Class: current_status_Laboratory-confirmed case, Log Probability: -0.041148778101135264\n",
      "Class 1 - Top 10\n",
      "Class: race_Asian, Log Probability: -1.223265527273555\n",
      "Class: location_alameda, Log Probability: -0.9543146894216328\n",
      "Class: sex_Female, Log Probability: -0.75760439517558\n",
      "Class: race_White, Log Probability: -0.682888417598635\n",
      "Class: age_group_65+ years, Log Probability: -0.6648346374139642\n",
      "Class: sex_Male, Log Probability: -0.632594305282586\n",
      "Class: location_santa clara, Log Probability: -0.6253154959807308\n",
      "Class: ethnicity_Non-Hispanic/Latino, Log Probability: -0.16071391602399032\n",
      "Class: symptom_status_Symptomatic, Log Probability: -0.05164933140748751\n",
      "Class: current_status_Laboratory-confirmed case, Log Probability: -0.021971514943603054\n"
     ]
    }
   ],
   "source": [
    "# Feature Importances\n",
    "# Identify the feature importances for each of the classes\n",
    "# Class 0 - Hospitalized - N\n",
    "indArr = np.argsort(model.feature_log_prob_[0])[len(model.feature_log_prob_[0])-10:]\n",
    "\n",
    "for feature in indArr: \n",
    "    print(f'Class: {model.feature_names_in_[feature]}, Log Probability: {model.feature_log_prob_[0][feature]}')\n",
    "\n",
    "\n",
    "print(\"Class 1 - Top 10\")\n",
    "# Class 1 - Hospitalized - Y\n",
    "indArr = np.argsort(model.feature_log_prob_[1])[len(model.feature_log_prob_[1])-10:]\n",
    "for feature in indArr: \n",
    "    print(f'Class: {model.feature_names_in_[feature]}, Log Probability: {model.feature_log_prob_[1][feature]}')\n"
   ]
  },
  {
   "cell_type": "code",
   "execution_count": 20,
   "id": "25bbace0-95a3-4394-b7b2-c6662c916775",
   "metadata": {},
   "outputs": [
    {
     "name": "stdout",
     "output_type": "stream",
     "text": [
      "[-0.04173742 -3.19715329]\n",
      "0.9591215925215677\n",
      "0.04087840747843198\n"
     ]
    }
   ],
   "source": [
    "print(model.class_log_prior_)\n",
    "#convert to actual\n",
    "\n",
    "for num in model.class_log_prior_:\n",
    "    print(np.exp(num))"
   ]
  },
  {
   "cell_type": "code",
   "execution_count": null,
   "id": "c599993f-9610-4828-b800-733150275d31",
   "metadata": {},
   "outputs": [],
   "source": []
  }
 ],
 "metadata": {
  "kernelspec": {
   "display_name": "Python 3 (ipykernel)",
   "language": "python",
   "name": "python3"
  },
  "language_info": {
   "codemirror_mode": {
    "name": "ipython",
    "version": 3
   },
   "file_extension": ".py",
   "mimetype": "text/x-python",
   "name": "python",
   "nbconvert_exporter": "python",
   "pygments_lexer": "ipython3",
   "version": "3.12.4"
  }
 },
 "nbformat": 4,
 "nbformat_minor": 5
}
